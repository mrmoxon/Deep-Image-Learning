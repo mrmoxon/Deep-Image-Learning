{
 "cells": [
  {
   "cell_type": "markdown",
   "metadata": {},
   "source": [
    "# Convolutional Neural-Networks"
   ]
  },
  {
   "cell_type": "markdown",
   "metadata": {},
   "source": [
    "## Plan\n",
    "\n",
    "1. Load in both MNIST and EMNIST. Validation set is MNIST (should be like 99%). Test set is EMNIST. - see generalisability.\n",
    "2. Augment MNIST with transformations and see the difference in performance on EMNIST test set. \n",
    "3. Augment again with a preselected set of decent EMNIST data, and maybe gaussian noise. Grow model and try to keep generalisability score the same."
   ]
  },
  {
   "cell_type": "code",
   "execution_count": 2,
   "metadata": {},
   "outputs": [],
   "source": [
    "from tensorflow.keras.datasets import mnist\n",
    "from tensorflow.keras.utils import to_categorical\n",
    "import numpy as np\n",
    "\n",
    "# Load MNIST data\n",
    "(x_train, y_train), (x_val, y_val) = mnist.load_data()\n",
    "\n",
    "# Normalize the images to [0, 1]\n",
    "x_train = x_train.astype('float32') / 255\n",
    "x_val = x_val.astype('float32') / 255\n",
    "\n",
    "# Convert labels to one-hot encoding\n",
    "y_train = to_categorical(y_train, 10)\n",
    "y_val = to_categorical(y_val, 10)\n",
    "\n",
    "# Reshape the images to add a dimension for the channel\n",
    "x_train_cnn = x_train.reshape(x_train.shape[0], 28, 28, 1)\n",
    "x_val_cnn = x_val.reshape(x_val.shape[0], 28, 28, 1)"
   ]
  },
  {
   "cell_type": "code",
   "execution_count": 3,
   "metadata": {},
   "outputs": [],
   "source": [
    "from tensorflow.keras.layers import Conv2D, MaxPool2D, Flatten, Dropout, Dense\n",
    "from tensorflow.keras.models import Sequential\n",
    "# from tensorflow.keras.datasets import mnist\n",
    "import matplotlib.pyplot as plt"
   ]
  },
  {
   "cell_type": "code",
   "execution_count": 4,
   "metadata": {},
   "outputs": [],
   "source": [
    "# Define the CNN model\n",
    "cnn_model = Sequential([\n",
    "    Conv2D(32, kernel_size=(5, 5), activation='relu', input_shape=(28, 28, 1)), # Input shape: this is the shape of one image, it has 1 dimension (greyscale)\n",
    "    MaxPool2D(pool_size=(2, 2)),           # This layer performs max pooling with a 2 x 2 filter, reducing the dimensions (height and width) of the feature maps by half.\n",
    "\n",
    "    Conv2D(32, (3, 3), activation='relu'), # This layer applies 32 differnt filters (each 3 x 3), each filter extracts different features (edges, corners, etc.)\n",
    "                                           # ReLU activation is used to introduce non-linearity, allowing the model to learn more complex patterns. \n",
    "\n",
    "    MaxPool2D(pool_size=(2, 2)),           # This layer performs max pooling with a 2 x 2 filter, reducing the dimensions (height and width) of the feature maps by half.\n",
    "\n",
    "    Flatten(),                             # This layer flattens the 2D feature maps into a 1D vector, which can be used as input to a fully connected neural network.\n",
    "\n",
    "    Dense(256, activation='relu'),         # This layer has 256 neurons and uses ReLU activation.\n",
    "\n",
    "    Dropout(0.5),                          # Regularisation technique where randomly selected neurons are ignored during training. This helps prevent overfitting.\n",
    "\n",
    "    Dense(10, activation='softmax')        # This layer has 10 neurons and uses softmax activation. Softmax activation enables you to calculate probabilities for each class score.\n",
    "])\n",
    "\n",
    "# Compile the model\n",
    "cnn_model.compile(optimizer='adam', loss='categorical_crossentropy', metrics=['accuracy'])"
   ]
  },
  {
   "cell_type": "code",
   "execution_count": 5,
   "metadata": {},
   "outputs": [
    {
     "name": "stdout",
     "output_type": "stream",
     "text": [
      "Epoch 1/10\n"
     ]
    },
    {
     "name": "stderr",
     "output_type": "stream",
     "text": [
      "2024-02-16 20:43:45.523518: W tensorflow/tsl/platform/profile_utils/cpu_utils.cc:128] Failed to get CPU frequency: 0 Hz\n"
     ]
    },
    {
     "name": "stdout",
     "output_type": "stream",
     "text": [
      "188/188 [==============================] - 4s 20ms/step - loss: 0.4109 - accuracy: 0.8724 - val_loss: 0.0881 - val_accuracy: 0.9745\n",
      "Epoch 2/10\n",
      "188/188 [==============================] - 4s 20ms/step - loss: 0.1042 - accuracy: 0.9689 - val_loss: 0.0633 - val_accuracy: 0.9793\n",
      "Epoch 3/10\n",
      "188/188 [==============================] - 4s 21ms/step - loss: 0.0743 - accuracy: 0.9771 - val_loss: 0.0492 - val_accuracy: 0.9851\n",
      "Epoch 4/10\n",
      "188/188 [==============================] - 4s 20ms/step - loss: 0.0590 - accuracy: 0.9816 - val_loss: 0.0447 - val_accuracy: 0.9870\n",
      "Epoch 5/10\n",
      "188/188 [==============================] - 4s 20ms/step - loss: 0.0515 - accuracy: 0.9840 - val_loss: 0.0397 - val_accuracy: 0.9883\n",
      "Epoch 6/10\n",
      "188/188 [==============================] - 4s 20ms/step - loss: 0.0438 - accuracy: 0.9862 - val_loss: 0.0409 - val_accuracy: 0.9886\n",
      "Epoch 7/10\n",
      "188/188 [==============================] - 4s 20ms/step - loss: 0.0387 - accuracy: 0.9885 - val_loss: 0.0346 - val_accuracy: 0.9900\n",
      "Epoch 8/10\n",
      "188/188 [==============================] - 4s 20ms/step - loss: 0.0349 - accuracy: 0.9891 - val_loss: 0.0370 - val_accuracy: 0.9894\n",
      "Epoch 9/10\n",
      "188/188 [==============================] - 4s 20ms/step - loss: 0.0309 - accuracy: 0.9900 - val_loss: 0.0311 - val_accuracy: 0.9912\n",
      "Epoch 10/10\n",
      "188/188 [==============================] - 4s 20ms/step - loss: 0.0279 - accuracy: 0.9914 - val_loss: 0.0336 - val_accuracy: 0.9902\n"
     ]
    }
   ],
   "source": [
    "# Train the CNN model\n",
    "cnn_history = cnn_model.fit(x_train_cnn, y_train, epochs=10, batch_size=256, validation_split=0.2)"
   ]
  },
  {
   "cell_type": "markdown",
   "metadata": {},
   "source": [
    "Load in EMNIST for test data"
   ]
  },
  {
   "cell_type": "code",
   "execution_count": 6,
   "metadata": {},
   "outputs": [],
   "source": [
    "from emnist import extract_training_samples, extract_test_samples\n",
    "from sklearn.model_selection import train_test_split\n",
    "\n",
    "# Load EMNIST digits\n",
    "images, labels = extract_training_samples('digits')\n",
    "test_images, test_labels = extract_test_samples('digits')\n",
    "\n",
    "# Combine the datasets\n",
    "combined_images = np.concatenate((images, test_images))\n",
    "combined_labels = np.concatenate((labels, test_labels))\n",
    "\n",
    "# Sample 60,000 instances randomly without replacement\n",
    "sample_indices = np.random.choice(combined_images.shape[0], 60000, replace=False)\n",
    "sampled_images = combined_images[sample_indices]\n",
    "sampled_labels = combined_labels[sample_indices]\n",
    "\n",
    "# Now, instead of using train_test_split, we directly divide the sampled data into 6 test sets\n",
    "test_sets = []\n",
    "for i in range(6):\n",
    "    start_idx = i * 10000\n",
    "    end_idx = (i + 1) * 10000\n",
    "    x_test_i = sampled_images[start_idx:end_idx].reshape(-1, 28, 28, 1)\n",
    "    y_test_i = to_categorical(sampled_labels[start_idx:end_idx], 10)\n",
    "    test_sets.append((x_test_i, y_test_i))"
   ]
  },
  {
   "cell_type": "markdown",
   "metadata": {},
   "source": [
    "Evaluation Metrics"
   ]
  },
  {
   "cell_type": "code",
   "execution_count": 7,
   "metadata": {},
   "outputs": [],
   "source": [
    "from sklearn.metrics import precision_score, recall_score, f1_score, confusion_matrix, classification_report\n",
    "import numpy as np\n",
    "\n",
    "def evaluate_performance(y_true, y_pred, dataset_name):\n",
    "    precision = precision_score(y_true, y_pred, average='macro')\n",
    "    recall = recall_score(y_true, y_pred, average='macro')\n",
    "    f1 = f1_score(y_true, y_pred, average='macro')\n",
    "    cm = confusion_matrix(y_true, y_pred)\n",
    "    \n",
    "    print(f\"Performance on {dataset_name}:\")\n",
    "    print(f\"Precision: {precision:.4f}\")\n",
    "    print(f\"Recall: {recall:.4f}\")\n",
    "    print(f\"F1 Score: {f1:.4f}\")\n",
    "    print(\"Confusion Matrix:\")\n",
    "    print(cm)\n",
    "    print(\"Classification Report:\")\n",
    "    print(classification_report(y_true, y_pred))\n",
    "    print(\"\\n\" + \"-\"*50 + \"\\n\")"
   ]
  },
  {
   "cell_type": "code",
   "execution_count": 8,
   "metadata": {},
   "outputs": [
    {
     "name": "stdout",
     "output_type": "stream",
     "text": [
      "313/313 [==============================] - 1s 2ms/step\n",
      "Performance on MNIST Validation Set:\n",
      "Precision: 0.9912\n",
      "Recall: 0.9911\n",
      "F1 Score: 0.9911\n",
      "Confusion Matrix:\n",
      "[[ 977    0    0    0    0    0    0    2    1    0]\n",
      " [   0 1131    0    0    0    1    1    2    0    0]\n",
      " [   2    1 1020    0    1    0    0    6    2    0]\n",
      " [   1    0    1 1004    0    2    0    1    1    0]\n",
      " [   0    0    0    0  973    0    0    0    1    8]\n",
      " [   2    0    0    4    0  881    2    0    1    2]\n",
      " [   3    2    0    1    1    1  948    0    2    0]\n",
      " [   0    0    3    1    0    0    0 1017    1    6]\n",
      " [   4    1    1    0    0    0    1    0  965    2]\n",
      " [   1    2    0    0    3    3    0    1    3  996]]\n",
      "Classification Report:\n",
      "              precision    recall  f1-score   support\n",
      "\n",
      "           0       0.99      1.00      0.99       980\n",
      "           1       0.99      1.00      1.00      1135\n",
      "           2       1.00      0.99      0.99      1032\n",
      "           3       0.99      0.99      0.99      1010\n",
      "           4       0.99      0.99      0.99       982\n",
      "           5       0.99      0.99      0.99       892\n",
      "           6       1.00      0.99      0.99       958\n",
      "           7       0.99      0.99      0.99      1028\n",
      "           8       0.99      0.99      0.99       974\n",
      "           9       0.98      0.99      0.98      1009\n",
      "\n",
      "    accuracy                           0.99     10000\n",
      "   macro avg       0.99      0.99      0.99     10000\n",
      "weighted avg       0.99      0.99      0.99     10000\n",
      "\n",
      "\n",
      "--------------------------------------------------\n",
      "\n"
     ]
    }
   ],
   "source": [
    "# Evaluate on MNIST Validation Set\n",
    "y_val_pred = cnn_model.predict(x_val_cnn)\n",
    "y_val_pred_classes = np.argmax(y_val_pred, axis=1)\n",
    "y_val_true = np.argmax(y_val, axis=1)\n",
    "evaluate_performance(y_val_true, y_val_pred_classes, \"MNIST Validation Set\")"
   ]
  },
  {
   "cell_type": "code",
   "execution_count": 9,
   "metadata": {},
   "outputs": [
    {
     "data": {
      "image/png": "[encoded data removed]",
      "text/plain": [
       "<Figure size 6000x2000 with 88 Axes>"
      ]
     },
     "metadata": {},
     "output_type": "display_data"
    }
   ],
   "source": [
    "misclassified_val_images = np.where(y_val_pred_classes != y_val_true)[0]\n",
    "\n",
    "def plot_misclassified(indexes, y_val_pred_classes, y_val_true, images, rows=10, cols=30):\n",
    "    \"\"\"Plots a selection of the misclassified images in grid format\"\"\"\n",
    "    n = len(indexes)\n",
    "    if n > rows * cols:\n",
    "        print(f\"Displaying first {rows * cols} out of {n} misclassified images.\")\n",
    "        n = rows * cols\n",
    "    \n",
    "    plt.figure(figsize=(2*cols, 2*rows))\n",
    "    for i in range(n):\n",
    "        idx = indexes[i]\n",
    "        plt.subplot(rows, cols, i+1)\n",
    "        plt.imshow(images[idx].reshape(28, 28), cmap='gray')\n",
    "        plt.title(f\"P: {y_val_pred_classes[idx]}, T: {y_val_true[idx]}\", fontsize=12)\n",
    "        plt.axis('off')\n",
    "    plt.tight_layout()\n",
    "    plt.show()\n",
    "\n",
    "plot_misclassified(misclassified_val_images, y_val_pred_classes, y_val_true, x_val)"
   ]
  },
  {
   "cell_type": "code",
   "execution_count": 10,
   "metadata": {},
   "outputs": [
    {
     "name": "stdout",
     "output_type": "stream",
     "text": [
      "313/313 [==============================] - 1s 2ms/step\n",
      "Performance on EMNIST Test Set 1:\n",
      "Precision: 0.9315\n",
      "Recall: 0.9249\n",
      "F1 Score: 0.9210\n",
      "Confusion Matrix:\n",
      "[[ 994    0    0    0    0    0    0    0    4    0]\n",
      " [   0  934    0    0    3    0    6    1    1    0]\n",
      " [   6    5  991    2    2    0    2    1    3    0]\n",
      " [   3    0    4  978    0    9    0    1    2    1]\n",
      " [   0    1    0    0 1020    0    2    4   12    1]\n",
      " [   1    0    0    3    1  984    3    9    9    6]\n",
      " [  15    3    1    0    0    0  913    0   14    0]\n",
      " [   0   19  113    2    6    0    0  880    6    1]\n",
      " [   8    2    2    1    2    9    2    0  988    1]\n",
      " [   2    3    3    1  111    3    1  113  204  562]]\n",
      "Classification Report:\n",
      "              precision    recall  f1-score   support\n",
      "\n",
      "           0       0.97      1.00      0.98       998\n",
      "           1       0.97      0.99      0.98       945\n",
      "           2       0.89      0.98      0.93      1012\n",
      "           3       0.99      0.98      0.99       998\n",
      "           4       0.89      0.98      0.93      1040\n",
      "           5       0.98      0.97      0.97      1016\n",
      "           6       0.98      0.97      0.97       946\n",
      "           7       0.87      0.86      0.86      1027\n",
      "           8       0.79      0.97      0.88      1015\n",
      "           9       0.98      0.56      0.71      1003\n",
      "\n",
      "    accuracy                           0.92     10000\n",
      "   macro avg       0.93      0.92      0.92     10000\n",
      "weighted avg       0.93      0.92      0.92     10000\n",
      "\n",
      "\n",
      "--------------------------------------------------\n",
      "\n",
      "313/313 [==============================] - 0s 2ms/step\n",
      "Performance on EMNIST Test Set 2:\n",
      "Precision: 0.9305\n",
      "Recall: 0.9272\n",
      "F1 Score: 0.9229\n",
      "Confusion Matrix:\n",
      "[[1030    0    0    0    0    1    1    0    2    2]\n",
      " [   0 1022    1    0    2    0    4    2    0    0]\n",
      " [   4    4  952    0    3    0    4    2    3    0]\n",
      " [   2    0    7  914    0   20    0    0    4    0]\n",
      " [   3    1    0    0  963    0    4    6    8    3]\n",
      " [   3    0    2    4    0  947    1    8    8    6]\n",
      " [  14    3    2    0    0    5 1071    0    5    0]\n",
      " [   2   18  112    1    6    0    0  850    2    2]\n",
      " [   8    0    1    1    3    6    2    1  918    0]\n",
      " [   1    2    0    2   97    1    0  127  182  602]]\n",
      "Classification Report:\n",
      "              precision    recall  f1-score   support\n",
      "\n",
      "           0       0.97      0.99      0.98      1036\n",
      "           1       0.97      0.99      0.98      1031\n",
      "           2       0.88      0.98      0.93       972\n",
      "           3       0.99      0.97      0.98       947\n",
      "           4       0.90      0.97      0.93       988\n",
      "           5       0.97      0.97      0.97       979\n",
      "           6       0.99      0.97      0.98      1100\n",
      "           7       0.85      0.86      0.85       993\n",
      "           8       0.81      0.98      0.89       940\n",
      "           9       0.98      0.59      0.74      1014\n",
      "\n",
      "    accuracy                           0.93     10000\n",
      "   macro avg       0.93      0.93      0.92     10000\n",
      "weighted avg       0.93      0.93      0.92     10000\n",
      "\n",
      "\n",
      "--------------------------------------------------\n",
      "\n",
      "313/313 [==============================] - 0s 1ms/step\n",
      "Performance on EMNIST Test Set 3:\n",
      "Precision: 0.9287\n",
      "Recall: 0.9223\n",
      "F1 Score: 0.9189\n",
      "Confusion Matrix:\n",
      "[[ 947    0    0    1    0    0    2    0    2    0]\n",
      " [   1  975    0    0    5    0   10    0    1    0]\n",
      " [   2    6  962    6    2    1    5    0    4    0]\n",
      " [   1    0    3 1002    0   11    0    2    3    1]\n",
      " [   0    4    0    0  986    0    8   10   13    0]\n",
      " [   0    0    1    1    1  947    2    5    7    5]\n",
      " [  16   10    0    0    2    5 1037    0   10    0]\n",
      " [   0   19  133    0    5    0    0  781    4    1]\n",
      " [   3    3    2    0    3    4    2    0 1024    1]\n",
      " [   1    3    0    1  102    2    0  125  184  572]]\n",
      "Classification Report:\n",
      "              precision    recall  f1-score   support\n",
      "\n",
      "           0       0.98      0.99      0.98       952\n",
      "           1       0.96      0.98      0.97       992\n",
      "           2       0.87      0.97      0.92       988\n",
      "           3       0.99      0.98      0.99      1023\n",
      "           4       0.89      0.97      0.93      1021\n",
      "           5       0.98      0.98      0.98       969\n",
      "           6       0.97      0.96      0.97      1080\n",
      "           7       0.85      0.83      0.84       943\n",
      "           8       0.82      0.98      0.89      1042\n",
      "           9       0.99      0.58      0.73       990\n",
      "\n",
      "    accuracy                           0.92     10000\n",
      "   macro avg       0.93      0.92      0.92     10000\n",
      "weighted avg       0.93      0.92      0.92     10000\n",
      "\n",
      "\n",
      "--------------------------------------------------\n",
      "\n",
      "313/313 [==============================] - 0s 1ms/step\n",
      "Performance on EMNIST Test Set 4:\n",
      "Precision: 0.9250\n",
      "Recall: 0.9206\n",
      "F1 Score: 0.9157\n",
      "Confusion Matrix:\n",
      "[[ 996    0    0    0    0    0    1    0    1    1]\n",
      " [   1  934    0    0    6    0    4    1    1    0]\n",
      " [   4    5  987    3    4    0    1    2    3    0]\n",
      " [   0    0    5  987    1   10    0    7    5    0]\n",
      " [   0    2    1    0  968    0    1   14   12    0]\n",
      " [   1    1    0    4    1 1005    5    5    5    7]\n",
      " [  25    8    1    0    0    2  954    0   14    0]\n",
      " [   0   29  114    3    5    0    0  844    3    0]\n",
      " [   4    2    0    1    3   10    1    5  940    1]\n",
      " [   0    3    0    1  120    2    1  131  192  579]]\n",
      "Classification Report:\n",
      "              precision    recall  f1-score   support\n",
      "\n",
      "           0       0.97      1.00      0.98       999\n",
      "           1       0.95      0.99      0.97       947\n",
      "           2       0.89      0.98      0.93      1009\n",
      "           3       0.99      0.97      0.98      1015\n",
      "           4       0.87      0.97      0.92       998\n",
      "           5       0.98      0.97      0.97      1034\n",
      "           6       0.99      0.95      0.97      1004\n",
      "           7       0.84      0.85      0.84       998\n",
      "           8       0.80      0.97      0.88       967\n",
      "           9       0.98      0.56      0.72      1029\n",
      "\n",
      "    accuracy                           0.92     10000\n",
      "   macro avg       0.93      0.92      0.92     10000\n",
      "weighted avg       0.93      0.92      0.92     10000\n",
      "\n",
      "\n",
      "--------------------------------------------------\n",
      "\n",
      "313/313 [==============================] - 0s 1ms/step\n",
      "Performance on EMNIST Test Set 5:\n",
      "Precision: 0.9340\n",
      "Recall: 0.9285\n",
      "F1 Score: 0.9254\n",
      "Confusion Matrix:\n",
      "[[1064    0    1    2    1    0    0    0    2    4]\n",
      " [   2  982    0    0    1    1    2    0    0    0]\n",
      " [   5    2 1044    3    5    0    3    3    4    0]\n",
      " [   0    0    1  998    0   12    0    1    2    0]\n",
      " [   0    0    0    0  939    0    5    3   11    0]\n",
      " [   0    0    0    4    0  947    3    9   10   10]\n",
      " [  20    5    0    0    0    5  911    0    6    0]\n",
      " [   0   26   98    1    5    0    0  811    2    1]\n",
      " [   2    0    1    0    3    4    2    3 1020    0]\n",
      " [   1    5    1    2  112    1    2  113  169  582]]\n",
      "Classification Report:\n",
      "              precision    recall  f1-score   support\n",
      "\n",
      "           0       0.97      0.99      0.98      1074\n",
      "           1       0.96      0.99      0.98       988\n",
      "           2       0.91      0.98      0.94      1069\n",
      "           3       0.99      0.98      0.99      1014\n",
      "           4       0.88      0.98      0.93       958\n",
      "           5       0.98      0.96      0.97       983\n",
      "           6       0.98      0.96      0.97       947\n",
      "           7       0.86      0.86      0.86       944\n",
      "           8       0.83      0.99      0.90      1035\n",
      "           9       0.97      0.59      0.73       988\n",
      "\n",
      "    accuracy                           0.93     10000\n",
      "   macro avg       0.93      0.93      0.93     10000\n",
      "weighted avg       0.93      0.93      0.93     10000\n",
      "\n",
      "\n",
      "--------------------------------------------------\n",
      "\n",
      "313/313 [==============================] - 0s 1ms/step\n",
      "Performance on EMNIST Test Set 6:\n",
      "Precision: 0.9291\n",
      "Recall: 0.9238\n",
      "F1 Score: 0.9199\n",
      "Confusion Matrix:\n",
      "[[1011    0    0    0    1    0    2    0    1    1]\n",
      " [   1  922    1    0    1    0    5    1    0    0]\n",
      " [   3    3  951    2    1    1    1    0    6    0]\n",
      " [   0    1    8 1004    1   14    0    0    2    0]\n",
      " [   2    3    0    0  935    0    5    4   14    2]\n",
      " [   1    0    1    3    0 1003    3    7    8    2]\n",
      " [  13    7    2    0    2    5  994    0   10    0]\n",
      " [   2   24  134    2    8    1    0  831    8    1]\n",
      " [   4    1    2    0    0   10    3    1 1002    0]\n",
      " [   0    3    0    1   89    0    1  138  179  584]]\n",
      "Classification Report:\n",
      "              precision    recall  f1-score   support\n",
      "\n",
      "           0       0.97      1.00      0.98      1016\n",
      "           1       0.96      0.99      0.97       931\n",
      "           2       0.87      0.98      0.92       968\n",
      "           3       0.99      0.97      0.98      1030\n",
      "           4       0.90      0.97      0.93       965\n",
      "           5       0.97      0.98      0.97      1028\n",
      "           6       0.98      0.96      0.97      1033\n",
      "           7       0.85      0.82      0.83      1011\n",
      "           8       0.81      0.98      0.89      1023\n",
      "           9       0.99      0.59      0.74       995\n",
      "\n",
      "    accuracy                           0.92     10000\n",
      "   macro avg       0.93      0.92      0.92     10000\n",
      "weighted avg       0.93      0.92      0.92     10000\n",
      "\n",
      "\n",
      "--------------------------------------------------\n",
      "\n"
     ]
    }
   ],
   "source": [
    "# Evaluate on each EMNIST Test Set\n",
    "for i, (x_test_i, y_test_i) in enumerate(test_sets):\n",
    "    y_test_i_pred = cnn_model.predict(x_test_i)\n",
    "    y_test_i_pred_classes = np.argmax(y_test_i_pred, axis=1)\n",
    "    y_test_i_true = np.argmax(y_test_i, axis=1)\n",
    "    evaluate_performance(y_test_i_true, y_test_i_pred_classes, f\"EMNIST Test Set {i+1}\")"
   ]
  },
  {
   "cell_type": "markdown",
   "metadata": {},
   "source": [
    "Results are in: 0.99 on validation, 0.89 on EMNIST. "
   ]
  },
  {
   "cell_type": "code",
   "execution_count": 11,
   "metadata": {},
   "outputs": [
    {
     "name": "stdout",
     "output_type": "stream",
     "text": [
      "Model: \"sequential_1\"\n",
      "_________________________________________________________________\n",
      " Layer (type)                Output Shape              Param #   \n",
      "=================================================================\n",
      " conv2d_3 (Conv2D)           (None, 24, 24, 32)        832       \n",
      "                                                                 \n",
      " max_pooling2d_3 (MaxPooling  (None, 12, 12, 32)       0         \n",
      " 2D)                                                             \n",
      "                                                                 \n",
      " conv2d_4 (Conv2D)           (None, 10, 10, 32)        9248      \n",
      "                                                                 \n",
      " max_pooling2d_4 (MaxPooling  (None, 5, 5, 32)         0         \n",
      " 2D)                                                             \n",
      "                                                                 \n",
      " flatten_1 (Flatten)         (None, 800)               0         \n",
      "                                                                 \n",
      " dense_3 (Dense)             (None, 256)               205056    \n",
      "                                                                 \n",
      " dropout_2 (Dropout)         (None, 256)               0         \n",
      "                                                                 \n",
      " dense_4 (Dense)             (None, 10)                2570      \n",
      "                                                                 \n",
      "=================================================================\n",
      "Total params: 217,706\n",
      "Trainable params: 217,706\n",
      "Non-trainable params: 0\n",
      "_________________________________________________________________\n"
     ]
    }
   ],
   "source": [
    "cnn_model.summary()"
   ]
  },
  {
   "cell_type": "markdown",
   "metadata": {},
   "source": [
    "# Round 2: Augmentation of the MNIST dataset\n",
    "\n",
    "Using Keras Sequential API"
   ]
  },
  {
   "cell_type": "code",
   "execution_count": 12,
   "metadata": {},
   "outputs": [],
   "source": [
    "from tensorflow.keras.layers.experimental.preprocessing import RandomRotation, RandomZoom, RandomTranslation, Resizing, RandomContrast\n",
    "from tensorflow.keras.layers import InputLayer\n",
    "from tensorflow.keras.models import Sequential\n",
    "\n",
    "# Define the CNN model with added complexity and augmentation\n",
    "cnn_model_enhanced = Sequential([\n",
    "    InputLayer(input_shape=(28, 28, 1)),\n",
    "    RandomRotation(0.1),  # Random rotation augmentation, 0.1 radians\n",
    "\n",
    "    Conv2D(64, kernel_size=(5, 5), activation='relu'), # Increased filters\n",
    "    MaxPool2D(pool_size=(2, 2)),\n",
    "\n",
    "    Conv2D(64, (3, 3), activation='relu'),\n",
    "    MaxPool2D(pool_size=(2, 2)),\n",
    "\n",
    "    Conv2D(128, (3, 3), activation='relu'), # Additional Convolutional layer\n",
    "    MaxPool2D(pool_size=(2, 2)),\n",
    "\n",
    "    Flatten(),\n",
    "\n",
    "    Dense(512, activation='relu'),  # Increased neurons in the dense layer\n",
    "    Dropout(0.5),\n",
    "\n",
    "    Dense(128, activation='relu'),  # Additional dense layer\n",
    "    Dropout(0.5),\n",
    "\n",
    "    Dense(10, activation='softmax')\n",
    "])\n",
    "\n",
    "# Compile the enhanced model\n",
    "cnn_model_enhanced.compile(optimizer='adam', loss='categorical_crossentropy', metrics=['accuracy'])"
   ]
  },
  {
   "cell_type": "code",
   "execution_count": 13,
   "metadata": {},
   "outputs": [
    {
     "name": "stdout",
     "output_type": "stream",
     "text": [
      "Epoch 1/10\n"
     ]
    },
    {
     "ename": "",
     "evalue": "",
     "output_type": "error",
     "traceback": [
      "\u001b[1;31mThe Kernel crashed while executing code in the the current cell or a previous cell. Please review the code in the cell(s) to identify a possible cause of the failure. Click <a href='https://aka.ms/vscodeJupyterKernelCrash'>here</a> for more info. View Jupyter <a href='command:jupyter.viewOutput'>log</a> for further details."
     ]
    }
   ],
   "source": [
    "from tensorflow.keras.layers import InputLayer, Conv2D, MaxPool2D, Flatten, Dense, Dropout\n",
    "from tensorflow.keras.layers.experimental.preprocessing import RandomRotation, RandomZoom, RandomTranslation, Resizing, RandomContrast\n",
    "from tensorflow.keras.models import Sequential\n",
    "\n",
    "# Define the CNN model with added complexity and augmentation\n",
    "cnn_model_enhanced = Sequential([\n",
    "    InputLayer(input_shape=(28, 28, 1)),\n",
    "    RandomRotation(0.1),  # Random rotation augmentation, 0.1 radians\n",
    "\n",
    "    Conv2D(64, kernel_size=(5, 5), activation='relu'),  # Increased filters\n",
    "    MaxPool2D(pool_size=(2, 2)),\n",
    "\n",
    "    Conv2D(64, (3, 3), activation='relu'),\n",
    "    MaxPool2D(pool_size=(2, 2)),\n",
    "\n",
    "    Conv2D(128, (3, 3), activation='relu'),  # Additional Convolutional layer\n",
    "    MaxPool2D(pool_size=(2, 2)),\n",
    "\n",
    "    Flatten(),\n",
    "\n",
    "    Dense(512, activation='relu'),  # Increased neurons in the dense layer\n",
    "    Dropout(0.5),\n",
    "\n",
    "    Dense(128, activation='relu'),  # Additional dense layer\n",
    "    Dropout(0.5),\n",
    "\n",
    "    Dense(10, activation='softmax')\n",
    "])\n",
    "\n",
    "# Compile the enhanced model\n",
    "cnn_model_enhanced.compile(optimizer='adam', loss='categorical_crossentropy', metrics=['accuracy'])\n",
    "\n",
    "# Ensure validation_split is a float between 0 and 1\n",
    "cnn_model_enhanced_history = cnn_model_enhanced.fit(x_train_cnn, y_train, epochs=10, batch_size=256, validation_split=0.2)"
   ]
  },
  {
   "cell_type": "code",
   "execution_count": null,
   "metadata": {},
   "outputs": [],
   "source": [
    "cnn_model_enhanced_history = cnn_model_enhanced.fit(x_train_cnn, y_train, epochs = 10, batch_size = 256, validation_split = 0.2)"
   ]
  },
  {
   "cell_type": "code",
   "execution_count": 13,
   "metadata": {},
   "outputs": [
    {
     "name": "stdout",
     "output_type": "stream",
     "text": [
      "Epoch 1/10\n"
     ]
    },
    {
     "ename": "",
     "evalue": "",
     "output_type": "error",
     "traceback": [
      "\u001b[1;31mThe Kernel crashed while executing code in the the current cell or a previous cell. Please review the code in the cell(s) to identify a possible cause of the failure. Click <a href='https://aka.ms/vscodeJupyterKernelCrash'>here</a> for more info. View Jupyter <a href='command:jupyter.viewOutput'>log</a> for further details."
     ]
    }
   ],
   "source": [
    "cnn_enhanced_history = cnn_model_enhanced.fit(x_train_cnn, y_train, epochs=10, batch_size=256, validation_split=0.2)"
   ]
  },
  {
   "cell_type": "code",
   "execution_count": 33,
   "metadata": {},
   "outputs": [
    {
     "name": "stdout",
     "output_type": "stream",
     "text": [
      "Model: \"sequential_7\"\n",
      "_________________________________________________________________\n",
      " Layer (type)                Output Shape              Param #   \n",
      "=================================================================\n",
      " random_rotation_6 (RandomRo  (None, 28, 28, 1)        0         \n",
      " tation)                                                         \n",
      "                                                                 \n",
      " conv2d_20 (Conv2D)          (None, 24, 24, 64)        1664      \n",
      "                                                                 \n",
      " max_pooling2d_20 (MaxPoolin  (None, 12, 12, 64)       0         \n",
      " g2D)                                                            \n",
      "                                                                 \n",
      " conv2d_21 (Conv2D)          (None, 10, 10, 64)        36928     \n",
      "                                                                 \n",
      " max_pooling2d_21 (MaxPoolin  (None, 5, 5, 64)         0         \n",
      " g2D)                                                            \n",
      "                                                                 \n",
      " conv2d_22 (Conv2D)          (None, 3, 3, 128)         73856     \n",
      "                                                                 \n",
      " max_pooling2d_22 (MaxPoolin  (None, 1, 1, 128)        0         \n",
      " g2D)                                                            \n",
      "                                                                 \n",
      " flatten_7 (Flatten)         (None, 128)               0         \n",
      "                                                                 \n",
      " dense_24 (Dense)            (None, 512)               66048     \n",
      "                                                                 \n",
      " dropout_17 (Dropout)        (None, 512)               0         \n",
      "                                                                 \n",
      " dense_25 (Dense)            (None, 128)               65664     \n",
      "                                                                 \n",
      " dropout_18 (Dropout)        (None, 128)               0         \n",
      "                                                                 \n",
      " dense_26 (Dense)            (None, 10)                1290      \n",
      "                                                                 \n",
      "=================================================================\n",
      "Total params: 245,450\n",
      "Trainable params: 245,450\n",
      "Non-trainable params: 0\n",
      "_________________________________________________________________\n"
     ]
    }
   ],
   "source": [
    "# Print model summary to see the updated parameter count\n",
    "cnn_model_enhanced.summary()"
   ]
  },
  {
   "cell_type": "code",
   "execution_count": 5,
   "metadata": {},
   "outputs": [],
   "source": [
    "cnn_model_enhanced_2 = Sequential([\n",
    "    # Data Augmentation Layers\n",
    "    RandomRotation(0.2),  # Rotations between -20% to 20% of 2pi radians\n",
    "    RandomZoom(0.2),  # Zoom in or out by 20%\n",
    "    RandomTranslation(height_factor=0.1, width_factor=0.1),  # Translate by 10% vertically and horizontally\n",
    "    RandomContrast(0.1),  # Adjust contrast by 10%\n",
    "\n",
    "    # Input Layer\n",
    "    InputLayer(input_shape=(28, 28, 1)),\n",
    "\n",
    "    # Convolutional Layers\n",
    "    Conv2D(64, kernel_size=(3, 3), activation='relu'),\n",
    "    MaxPool2D(pool_size=(2, 2)),\n",
    "\n",
    "    Conv2D(128, (3, 3), activation='relu'),\n",
    "    MaxPool2D(pool_size=(2, 2)),\n",
    "\n",
    "    Conv2D(256, (3, 3), activation='relu'),\n",
    "    MaxPool2D(pool_size=(2, 2)),\n",
    "\n",
    "    # Flattening the 2D arrays for fully connected layers\n",
    "    Flatten(),\n",
    "\n",
    "    # Fully Connected Layers\n",
    "    Dense(1024, activation='relu'),\n",
    "    Dropout(0.5),\n",
    "\n",
    "    Dense(512, activation='relu'),\n",
    "    Dropout(0.5),\n",
    "\n",
    "    Dense(256, activation='relu'),\n",
    "    Dropout(0.5),\n",
    "\n",
    "    # Output Layer\n",
    "    Dense(10, activation='softmax')\n",
    "])\n",
    "\n",
    "# Compile the augmented model\n",
    "cnn_model_enhanced_2.compile(optimizer='adam', loss='categorical_crossentropy', metrics=['accuracy'])\n",
    "\n",
    "cnn_model_enhanced_2.build((None, 28, 28, 1))  # None is for the batch size, which can vary"
   ]
  },
  {
   "cell_type": "code",
   "execution_count": 6,
   "metadata": {},
   "outputs": [
    {
     "name": "stdout",
     "output_type": "stream",
     "text": [
      "Model: \"sequential_1\"\n",
      "_________________________________________________________________\n",
      " Layer (type)                Output Shape              Param #   \n",
      "=================================================================\n",
      " random_rotation_1 (RandomRo  (None, 28, 28, 1)        0         \n",
      " tation)                                                         \n",
      "                                                                 \n",
      " random_zoom (RandomZoom)    (None, 28, 28, 1)         0         \n",
      "                                                                 \n",
      " random_translation (RandomT  (None, 28, 28, 1)        0         \n",
      " ranslation)                                                     \n",
      "                                                                 \n",
      " random_contrast (RandomCont  (None, 28, 28, 1)        0         \n",
      " rast)                                                           \n",
      "                                                                 \n",
      " input_2 (InputLayer)        multiple                  0         \n",
      "                                                                 \n",
      " conv2d_3 (Conv2D)           (None, 26, 26, 64)        640       \n",
      "                                                                 \n",
      " max_pooling2d_3 (MaxPooling  (None, 13, 13, 64)       0         \n",
      " 2D)                                                             \n",
      "                                                                 \n",
      " conv2d_4 (Conv2D)           (None, 11, 11, 128)       73856     \n",
      "                                                                 \n",
      " max_pooling2d_4 (MaxPooling  (None, 5, 5, 128)        0         \n",
      " 2D)                                                             \n",
      "                                                                 \n",
      " conv2d_5 (Conv2D)           (None, 3, 3, 256)         295168    \n",
      "                                                                 \n",
      " max_pooling2d_5 (MaxPooling  (None, 1, 1, 256)        0         \n",
      " 2D)                                                             \n",
      "                                                                 \n",
      " flatten_1 (Flatten)         (None, 256)               0         \n",
      "                                                                 \n",
      " dense_3 (Dense)             (None, 1024)              263168    \n",
      "                                                                 \n",
      " dropout_2 (Dropout)         (None, 1024)              0         \n",
      "                                                                 \n",
      " dense_4 (Dense)             (None, 512)               524800    \n",
      "                                                                 \n",
      " dropout_3 (Dropout)         (None, 512)               0         \n",
      "                                                                 \n",
      " dense_5 (Dense)             (None, 256)               131328    \n",
      "                                                                 \n",
      " dropout_4 (Dropout)         (None, 256)               0         \n",
      "                                                                 \n",
      " dense_6 (Dense)             (None, 10)                2570      \n",
      "                                                                 \n",
      "=================================================================\n",
      "Total params: 1,291,530\n",
      "Trainable params: 1,291,530\n",
      "Non-trainable params: 0\n",
      "_________________________________________________________________\n"
     ]
    }
   ],
   "source": [
    "cnn_model_enhanced_2.summary()"
   ]
  },
  {
   "cell_type": "code",
   "execution_count": 7,
   "metadata": {},
   "outputs": [
    {
     "name": "stdout",
     "output_type": "stream",
     "text": [
      "Epoch 1/10\n"
     ]
    },
    {
     "name": "stderr",
     "output_type": "stream",
     "text": [
      "2024-02-16 19:55:35.839012: W tensorflow/tsl/platform/profile_utils/cpu_utils.cc:128] Failed to get CPU frequency: 0 Hz\n"
     ]
    },
    {
     "ename": "",
     "evalue": "",
     "output_type": "error",
     "traceback": [
      "\u001b[1;31mThe Kernel crashed while executing code in the the current cell or a previous cell. Please review the code in the cell(s) to identify a possible cause of the failure. Click <a href='https://aka.ms/vscodeJupyterKernelCrash'>here</a> for more info. View Jupyter <a href='command:jupyter.viewOutput'>log</a> for further details."
     ]
    }
   ],
   "source": [
    "cnn_history_enhanced = cnn_model_enhanced_2.fit(x_train_cnn, y_train, epochs=10, batch_size=256, validation_split=0.2)"
   ]
  },
  {
   "cell_type": "code",
   "execution_count": null,
   "metadata": {},
   "outputs": [],
   "source": []
  }
 ],
 "metadata": {
  "kernelspec": {
   "display_name": "Python 3",
   "language": "python",
   "name": "python3"
  },
  "language_info": {
   "codemirror_mode": {
    "name": "ipython",
    "version": 3
   },
   "file_extension": ".py",
   "mimetype": "text/x-python",
   "name": "python",
   "nbconvert_exporter": "python",
   "pygments_lexer": "ipython3",
   "version": "3.11.5"
  }
 },
 "nbformat": 4,
 "nbformat_minor": 2
}
