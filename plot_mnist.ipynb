{
  "cells": [
    {
      "cell_type": "markdown",
      "metadata": {},
      "source": [
        "\n",
        "# UMAP on the MNIST Digits dataset\n",
        "\n",
        "A simple example demonstrating how to use UMAP on a larger\n",
        "dataset such as MNIST. We first pull the MNIST dataset and\n",
        "then use UMAP to reduce it to only 2-dimensions for\n",
        "easy visualisation.\n",
        "\n",
        "Note that UMAP manages to both group the individual digit\n",
        "classes, but also to retain the overall global structure\n",
        "among the different digit classes -- keeping 1 far from\n",
        "0, and grouping triplets of 3,5,8 and 4,7,9 which can\n",
        "blend into one another in some cases.\n"
      ]
    },
    {
      "cell_type": "code",
      "execution_count": 3,
      "metadata": {
        "collapsed": false
      },
      "outputs": [
        {
          "ename": "ModuleNotFoundError",
          "evalue": "No module named 'umap'",
          "output_type": "error",
          "traceback": [
            "\u001b[0;31m---------------------------------------------------------------------------\u001b[0m",
            "\u001b[0;31mModuleNotFoundError\u001b[0m                       Traceback (most recent call last)",
            "Cell \u001b[0;32mIn[3], line 1\u001b[0m\n\u001b[0;32m----> 1\u001b[0m \u001b[38;5;28;01mimport\u001b[39;00m \u001b[38;5;21;01mumap\u001b[39;00m\n\u001b[1;32m      2\u001b[0m \u001b[38;5;28;01mfrom\u001b[39;00m \u001b[38;5;21;01msklearn\u001b[39;00m\u001b[38;5;21;01m.\u001b[39;00m\u001b[38;5;21;01mdatasets\u001b[39;00m \u001b[38;5;28;01mimport\u001b[39;00m fetch_openml\n\u001b[1;32m      3\u001b[0m \u001b[38;5;28;01mimport\u001b[39;00m \u001b[38;5;21;01mmatplotlib\u001b[39;00m\u001b[38;5;21;01m.\u001b[39;00m\u001b[38;5;21;01mpyplot\u001b[39;00m \u001b[38;5;28;01mas\u001b[39;00m \u001b[38;5;21;01mplt\u001b[39;00m\n",
            "\u001b[0;31mModuleNotFoundError\u001b[0m: No module named 'umap'"
          ]
        }
      ],
      "source": [
        "import umap\n",
        "from sklearn.datasets import fetch_openml\n",
        "import matplotlib.pyplot as plt\n",
        "import seaborn as sns\n",
        "\n",
        "sns.set(context=\"paper\", style=\"white\")\n",
        "\n",
        "mnist = fetch_openml(\"mnist_784\", version=1)\n",
        "\n",
        "reducer = umap.UMAP(random_state=42)\n",
        "embedding = reducer.fit_transform(mnist.data)\n",
        "\n",
        "fig, ax = plt.subplots(figsize=(12, 10))\n",
        "color = mnist.target.astype(int)\n",
        "plt.scatter(embedding[:, 0], embedding[:, 1], c=color, cmap=\"Spectral\", s=0.1)\n",
        "plt.setp(ax, xticks=[], yticks=[])\n",
        "plt.title(\"MNIST data embedded into two dimensions by UMAP\", fontsize=18)\n",
        "\n",
        "plt.show()"
      ]
    }
  ],
  "metadata": {
    "kernelspec": {
      "display_name": "Python 3",
      "language": "python",
      "name": "python3"
    },
    "language_info": {
      "codemirror_mode": {
        "name": "ipython",
        "version": 3
      },
      "file_extension": ".py",
      "mimetype": "text/x-python",
      "name": "python",
      "nbconvert_exporter": "python",
      "pygments_lexer": "ipython3",
      "version": "3.9.6"
    }
  },
  "nbformat": 4,
  "nbformat_minor": 0
}
